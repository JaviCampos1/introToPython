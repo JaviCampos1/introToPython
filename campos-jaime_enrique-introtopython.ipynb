{
 "cells": [
  {
   "cell_type": "code",
   "execution_count": 4,
   "metadata": {},
   "outputs": [
    {
     "name": "stdout",
     "output_type": "stream",
     "text": [
      "Enter first number: 2\n",
      "Enter second number: 4\n",
      "Enter third number: 6\n",
      "The average is 4.0\n"
     ]
    }
   ],
   "source": [
    "#195783\n",
    "#Campos\n",
    "#2 BS ITE"
   ]
  },
  {
   "cell_type": "code",
   "execution_count": null,
   "metadata": {
    "scrolled": true
   },
   "outputs": [],
   "source": [
    "#195783-Campos-BS_ITE\n",
    "def three_number_average():\n",
    "    sum = int(a) + int(b) + int(c)\n",
    "    Avg = sum/3\n",
    "    print(\"The average is \" + str(Avg)) \n",
    "\n",
    "\n",
    "a = input(\"Enter first number: \" )\n",
    "b = input(\"Enter second number: \" )\n",
    "c = input(\"Enter third number: \" )\n",
    "\n",
    "\n",
    "three_number_average()\n"
   ]
  },
  {
   "cell_type": "markdown",
   "metadata": {},
   "source": []
  },
  {
   "cell_type": "code",
   "execution_count": null,
   "metadata": {},
   "outputs": [],
   "source": []
  }
 ],
 "metadata": {
  "kernelspec": {
   "display_name": "Python 3",
   "language": "python",
   "name": "python3"
  },
  "language_info": {
   "codemirror_mode": {
    "name": "ipython",
    "version": 3
   },
   "file_extension": ".py",
   "mimetype": "text/x-python",
   "name": "python",
   "nbconvert_exporter": "python",
   "pygments_lexer": "ipython3",
   "version": "3.8.5"
  }
 },
 "nbformat": 4,
 "nbformat_minor": 4
}
